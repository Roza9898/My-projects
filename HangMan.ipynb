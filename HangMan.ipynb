{
    "cells": [
        {
            "cell_type": "markdown",
            "metadata": {},
            "source": "# 1. Importing time module"
        },
        {
            "cell_type": "code",
            "execution_count": 1,
            "metadata": {},
            "outputs": [],
            "source": "import time"
        },
        {
            "cell_type": "markdown",
            "metadata": {},
            "source": "# 2. Welcoming the user"
        },
        {
            "cell_type": "code",
            "execution_count": 3,
            "metadata": {},
            "outputs": [
                {
                    "name": "stdout",
                    "output_type": "stream",
                    "text": "What is your name? Roza\n"
                }
            ],
            "source": "name=input('What is your name?')"
        },
        {
            "cell_type": "code",
            "execution_count": 4,
            "metadata": {},
            "outputs": [
                {
                    "name": "stdout",
                    "output_type": "stream",
                    "text": "Hello Roza Time to play HangMan!\n"
                }
            ],
            "source": "print('Hello' + name, 'Time to play HangMan!')"
        },
        {
            "cell_type": "markdown",
            "metadata": {},
            "source": "# 3. Wait for 1 second"
        },
        {
            "cell_type": "code",
            "execution_count": 5,
            "metadata": {},
            "outputs": [],
            "source": "time.sleep(1)"
        },
        {
            "cell_type": "code",
            "execution_count": 6,
            "metadata": {},
            "outputs": [
                {
                    "name": "stdout",
                    "output_type": "stream",
                    "text": "Start guessing...\n"
                }
            ],
            "source": "print('Start guessing...')\ntime.sleep(5)"
        },
        {
            "cell_type": "markdown",
            "metadata": {},
            "source": "# 4. Here we set the secret"
        },
        {
            "cell_type": "code",
            "execution_count": 51,
            "metadata": {},
            "outputs": [],
            "source": "word = 'Laptop'"
        },
        {
            "cell_type": "markdown",
            "metadata": {},
            "source": "# 5. Creates an variable with an empty value"
        },
        {
            "cell_type": "code",
            "execution_count": 52,
            "metadata": {},
            "outputs": [],
            "source": "guesses=''"
        },
        {
            "cell_type": "markdown",
            "metadata": {},
            "source": "# 6. Determine the number of turns"
        },
        {
            "cell_type": "code",
            "execution_count": 53,
            "metadata": {},
            "outputs": [],
            "source": "turns = 10"
        },
        {
            "cell_type": "markdown",
            "metadata": {},
            "source": "# 7. Create a while loop"
        },
        {
            "cell_type": "code",
            "execution_count": 78,
            "metadata": {},
            "outputs": [
                {
                    "name": "stdout",
                    "output_type": "stream",
                    "text": "guess a charactert\n"
                }
            ],
            "source": "guess= input('guess a character')\nguesses += guess"
        },
        {
            "cell_type": "code",
            "execution_count": 79,
            "metadata": {},
            "outputs": [
                {
                    "name": "stdout",
                    "output_type": "stream",
                    "text": "L\na\np\nt\no\np\nYou Won\n"
                }
            ],
            "source": "while turns>0:\n    failed=0\n    for char in word: \n        if char in guesses:\n            print(char,)\n        else:\n            print('_',)\n            failed += 1\n    if failed==0:\n        print('You Won')\n    break\n\nif guess not in word:\n    turns -= 1\n    print('Wrong')\n    print('You have', + turns, 'more guesses')\n    if turns == 0:\n        print('You Lost')"
        },
        {
            "cell_type": "code",
            "execution_count": null,
            "metadata": {},
            "outputs": [],
            "source": ""
        }
    ],
    "metadata": {
        "kernelspec": {
            "display_name": "Python 3.6",
            "language": "python",
            "name": "python3"
        },
        "language_info": {
            "codemirror_mode": {
                "name": "ipython",
                "version": 3
            },
            "file_extension": ".py",
            "mimetype": "text/x-python",
            "name": "python",
            "nbconvert_exporter": "python",
            "pygments_lexer": "ipython3",
            "version": "3.6.8"
        }
    },
    "nbformat": 4,
    "nbformat_minor": 1
}